{
 "cells": [
  {
   "cell_type": "markdown",
   "metadata": {},
   "source": [
    "Part 2,\n",
    "     Neural network with one hidden layer with 4 neural unit. We will not be using any library such as Tensorflow. We are simply building a NN from scratch."
   ]
  },
  {
   "cell_type": "code",
   "execution_count": 1,
   "metadata": {},
   "outputs": [],
   "source": [
    "import numpy as np\n",
    "import matplotlib.pyplot as plt\n",
    "import pandas as pd\n",
    "import sklearn\n",
    "import sklearn.datasets\n",
    "import sklearn.linear_model"
   ]
  },
  {
   "cell_type": "code",
   "execution_count": 2,
   "metadata": {},
   "outputs": [],
   "source": [
    "def layer_sizes(X, Y):\n",
    "    \n",
    "    n_x = X.shape[0] # size of input layer\n",
    "    n_h = 4\n",
    "    n_y = Y.shape[0] # size of output layer\n",
    "    \n",
    "    return (n_x, n_h, n_y)"
   ]
  },
  {
   "cell_type": "code",
   "execution_count": 37,
   "metadata": {},
   "outputs": [],
   "source": [
    "def initialize_parameters(n_x, n_h, n_y):\n",
    "    np.random.seed(2)\n",
    "    W1 = np.random.randn(n_h, n_x)\n",
    "    b1 = np.zeros((n_h, 1))\n",
    "    W2 = np.random.randn(n_y, n_h)\n",
    "    b2 = np.zeros((n_y, 1))\n",
    "    #print(\"initial value\")\n",
    "    #print(W1.shape, b1.shape, W2.shape, b2.shape)\n",
    "    parameters = {\"W1\": W1,\n",
    "                  \"b1\": b1,\n",
    "                  \"W2\": W2,\n",
    "                  \"b2\": b2}\n",
    "    return parameters"
   ]
  },
  {
   "cell_type": "code",
   "execution_count": 4,
   "metadata": {},
   "outputs": [],
   "source": [
    "def forward_prop(X, parameters):\n",
    "    W1 = parameters[\"W1\"]\n",
    "    b1 = parameters[\"b1\"]\n",
    "    W2 = parameters[\"W2\"]\n",
    "    b2 = parameters[\"b2\"]\n",
    "    \n",
    "    Z1 = np.dot(W1, X) + b1\n",
    "    A1 = np.tanh(Z1)\n",
    "    Z2 = np.dot(W2, A1) + b2\n",
    "    A2 = Z2\n",
    "    \n",
    "    cache = {\"Z1\": Z1,\n",
    "             \"A1\": A1,\n",
    "             \"Z2\": Z2,\n",
    "             \"A2\": A2}\n",
    "    \n",
    "    return A2, cache\n",
    "    "
   ]
  },
  {
   "cell_type": "code",
   "execution_count": 5,
   "metadata": {},
   "outputs": [],
   "source": [
    "def cost_function(A2, Y):\n",
    "    m = Y.shape[1]\n",
    "    J = (1 / (2 * m)) * np.sum(np.square(A2 - Y))\n",
    "    return J"
   ]
  },
  {
   "cell_type": "code",
   "execution_count": 6,
   "metadata": {},
   "outputs": [],
   "source": [
    "def back_prop(parameters, cache, X, Y):\n",
    "    m = Y.shape[1]\n",
    "    W1 = parameters[\"W1\"]\n",
    "    W2 = parameters[\"W2\"]\n",
    "    A1 = cache[\"A1\"]\n",
    "    A2 = cache[\"A2\"]\n",
    "    \n",
    "    dZ2 = (1 / m) * (A2 - Y)\n",
    "    dW2 = np.dot(dZ2, A1.T)\n",
    "    #print(\"inside back prop while calculating derivates\")\n",
    "    #print(A1.shape, Y.shape, dZ2.shape, dW2.shape)\n",
    "    db2 = np.sum(dZ2, axis=1, keepdims=True)\n",
    "    dZ1 = np.multiply(np.dot(W2.T, dZ2), np.subtract(1, np.power(A1, 2)))\n",
    "    dW1 = np.dot(dZ1, X.T)/m\n",
    "    db1 = np.sum(dZ1, axis=1, keepdims=True)/m\n",
    "    \n",
    "    grads = {\"dW1\": dW1,\n",
    "             \"db1\": db1,\n",
    "             \"dW2\": dW2,\n",
    "             \"db2\": db2}\n",
    "    return grads"
   ]
  },
  {
   "cell_type": "code",
   "execution_count": 7,
   "metadata": {},
   "outputs": [],
   "source": [
    "def gradient_descent_update(parameters, grads,  learning_rate=0.3):\n",
    "    W1 = parameters[\"W1\"]\n",
    "    b1 = parameters[\"b1\"]\n",
    "    W2 = parameters[\"W2\"]\n",
    "    b2 = parameters[\"b2\"]\n",
    "    \n",
    "    \n",
    "    dW1 = grads[\"dW1\"]\n",
    "    db1 = grads[\"db1\"]\n",
    "    dW2 = grads[\"dW2\"]\n",
    "    db2 = grads[\"db2\"]\n",
    "    \n",
    "    #print(\"shape of dw2 is:\" + str(dW2.shape))\n",
    "    W1 = W1 - learning_rate * dW1\n",
    "    b1 = b1 - learning_rate * db1\n",
    "    W2 = W2 - learning_rate * dW2\n",
    "    b2 = b2 - learning_rate * db2\n",
    "    \n",
    "    parameters = {\"W1\": W1,\n",
    "                  \"b1\": b1,\n",
    "                  \"W2\": W2,\n",
    "                  \"b2\": b2}\n",
    "    \n",
    "    return parameters"
   ]
  },
  {
   "cell_type": "code",
   "execution_count": 38,
   "metadata": {},
   "outputs": [],
   "source": [
    "def nn_model(X,Y, X_val, y_val, n_h,  epochs=2500, learning_rate=0.3, print_cost=False):\n",
    "    np.random.seed(3)\n",
    "    n_x = layer_sizes(X, Y)[0]\n",
    "    n_y = layer_sizes(X, Y)[2]\n",
    "    \n",
    "    parameters = initialize_parameters(n_x, n_h, n_y)\n",
    "    \n",
    "    costs_train = []\n",
    "    m_train = Y.shape[1]\n",
    "    m_val = y_val.shape[1]\n",
    "    for i in range(0, epochs):\n",
    "        A2, cache = forward_prop(X, parameters)\n",
    "        cost_train = cost_function(A2, Y)\n",
    "        grads = back_prop(parameters, cache, X, Y)\n",
    "        parameters = gradient_descent_update(parameters, grads, learning_rate)\n",
    "        if i % 100 == 0:\n",
    "            costs_train.append(cost_train)\n",
    "            \n",
    "            MAE_train = (1 / m_train) * np.sum(np.abs(A2 - Y))\n",
    "\n",
    "            A2_val, cache = forward_prop(X_val, parameters)\n",
    "            cost_val = cost_function(A2_val, y_val)\n",
    "            MAE_val = (1 / m_val) * np.sum(np.abs(A2_val - y_val))\n",
    "\n",
    "            print(\"epochs \" + str(i) + '/' + str(epochs) + ': ')\n",
    "            print('Training cost' + str(cost_train) + '| ' +\n",
    "                  'validation cost' + str(cost_val))\n",
    "            print('Training mae' + str(MAE_train) + '| ' +\n",
    "                  'validation mae' + str(MAE_val))\n",
    "        \n",
    "    plt.plot(costs_train)\n",
    "    plt.xlabel('Iterations X 100')\n",
    "    plt.ylabel('Training cost')\n",
    "    plt.title('Learning rate' + str(learning_rate))\n",
    "    plt.show()"
   ]
  },
  {
   "cell_type": "code",
   "execution_count": null,
   "metadata": {},
   "outputs": [],
   "source": []
  },
  {
   "cell_type": "code",
   "execution_count": 12,
   "metadata": {},
   "outputs": [],
   "source": [
    "from sklearn.datasets import load_diabetes"
   ]
  },
  {
   "cell_type": "code",
   "execution_count": 13,
   "metadata": {},
   "outputs": [],
   "source": [
    "diabetes = load_diabetes()\n",
    "diabetes['feature_names']\n",
    "diab = pd.DataFrame(diabetes['data'])\n",
    "diab.columns = diabetes['feature_names']"
   ]
  },
  {
   "cell_type": "code",
   "execution_count": 14,
   "metadata": {},
   "outputs": [],
   "source": [
    "X = diab"
   ]
  },
  {
   "cell_type": "code",
   "execution_count": 15,
   "metadata": {},
   "outputs": [],
   "source": [
    "Y = diabetes['target']"
   ]
  },
  {
   "cell_type": "code",
   "execution_count": 16,
   "metadata": {},
   "outputs": [
    {
     "data": {
      "text/plain": [
       "(442, 10)"
      ]
     },
     "execution_count": 16,
     "metadata": {},
     "output_type": "execute_result"
    }
   ],
   "source": [
    "X.shape"
   ]
  },
  {
   "cell_type": "code",
   "execution_count": 17,
   "metadata": {},
   "outputs": [
    {
     "data": {
      "text/plain": [
       "(442,)"
      ]
     },
     "execution_count": 17,
     "metadata": {},
     "output_type": "execute_result"
    }
   ],
   "source": [
    "Y.shape"
   ]
  },
  {
   "cell_type": "code",
   "execution_count": 18,
   "metadata": {},
   "outputs": [],
   "source": [
    "#split dataset into train and validation\n",
    "from sklearn.model_selection import train_test_split\n",
    "X_train, X_val, y_train, y_val = train_test_split(X, Y, test_size=0.33, random_state=5)"
   ]
  },
  {
   "cell_type": "code",
   "execution_count": 19,
   "metadata": {},
   "outputs": [
    {
     "data": {
      "text/plain": [
       "(296, 10)"
      ]
     },
     "execution_count": 19,
     "metadata": {},
     "output_type": "execute_result"
    }
   ],
   "source": [
    "X_train.shape"
   ]
  },
  {
   "cell_type": "code",
   "execution_count": 20,
   "metadata": {},
   "outputs": [],
   "source": [
    "X_train = X_train.T"
   ]
  },
  {
   "cell_type": "code",
   "execution_count": 21,
   "metadata": {},
   "outputs": [
    {
     "data": {
      "text/plain": [
       "(10, 296)"
      ]
     },
     "execution_count": 21,
     "metadata": {},
     "output_type": "execute_result"
    }
   ],
   "source": [
    "X_train.shape"
   ]
  },
  {
   "cell_type": "code",
   "execution_count": 22,
   "metadata": {},
   "outputs": [
    {
     "data": {
      "text/plain": [
       "(296,)"
      ]
     },
     "execution_count": 22,
     "metadata": {},
     "output_type": "execute_result"
    }
   ],
   "source": [
    "y_train.shape"
   ]
  },
  {
   "cell_type": "code",
   "execution_count": 23,
   "metadata": {},
   "outputs": [],
   "source": [
    "y_train = np.array([y_train])"
   ]
  },
  {
   "cell_type": "code",
   "execution_count": 24,
   "metadata": {},
   "outputs": [
    {
     "data": {
      "text/plain": [
       "(1, 296)"
      ]
     },
     "execution_count": 24,
     "metadata": {},
     "output_type": "execute_result"
    }
   ],
   "source": [
    "y_train.shape"
   ]
  },
  {
   "cell_type": "code",
   "execution_count": 25,
   "metadata": {},
   "outputs": [
    {
     "data": {
      "text/plain": [
       "(146, 10)"
      ]
     },
     "execution_count": 25,
     "metadata": {},
     "output_type": "execute_result"
    }
   ],
   "source": [
    "X_val.shape"
   ]
  },
  {
   "cell_type": "code",
   "execution_count": 26,
   "metadata": {},
   "outputs": [],
   "source": [
    "X_val = X_val.T"
   ]
  },
  {
   "cell_type": "code",
   "execution_count": 27,
   "metadata": {},
   "outputs": [
    {
     "data": {
      "text/plain": [
       "(10, 146)"
      ]
     },
     "execution_count": 27,
     "metadata": {},
     "output_type": "execute_result"
    }
   ],
   "source": [
    "X_val.shape"
   ]
  },
  {
   "cell_type": "code",
   "execution_count": 28,
   "metadata": {},
   "outputs": [],
   "source": [
    "y_val = np.array([y_val])"
   ]
  },
  {
   "cell_type": "code",
   "execution_count": 29,
   "metadata": {},
   "outputs": [
    {
     "data": {
      "text/plain": [
       "(1, 146)"
      ]
     },
     "execution_count": 29,
     "metadata": {},
     "output_type": "execute_result"
    }
   ],
   "source": [
    "y_val.shape"
   ]
  },
  {
   "cell_type": "code",
   "execution_count": 30,
   "metadata": {},
   "outputs": [
    {
     "data": {
      "text/plain": [
       "10"
      ]
     },
     "execution_count": 30,
     "metadata": {},
     "output_type": "execute_result"
    }
   ],
   "source": [
    "layer_sizes(X_train, y_train)[0]"
   ]
  },
  {
   "cell_type": "code",
   "execution_count": 31,
   "metadata": {},
   "outputs": [
    {
     "data": {
      "text/plain": [
       "1"
      ]
     },
     "execution_count": 31,
     "metadata": {},
     "output_type": "execute_result"
    }
   ],
   "source": [
    "layer_sizes(X_train, y_train)[2]"
   ]
  },
  {
   "cell_type": "code",
   "execution_count": 32,
   "metadata": {},
   "outputs": [
    {
     "data": {
      "text/plain": [
       "(442, 4, 442)"
      ]
     },
     "execution_count": 32,
     "metadata": {},
     "output_type": "execute_result"
    }
   ],
   "source": [
    "layer_sizes(X,Y)"
   ]
  },
  {
   "cell_type": "code",
   "execution_count": 39,
   "metadata": {
    "scrolled": true
   },
   "outputs": [
    {
     "name": "stdout",
     "output_type": "stream",
     "text": [
      "epochs 0/2500: \n",
      "Training cost14452.349487864132| validation cost8639.939627154201\n",
      "Training mae152.33772916272588| validation mae105.33813898662655\n",
      "epochs 100/2500: \n",
      "Training cost2115.7382828439677| validation cost2153.5594783636952\n",
      "Training mae56.00358118831091| validation mae52.35665232972042\n",
      "epochs 200/2500: \n",
      "Training cost1796.6309876295875| validation cost1816.8736857935978\n",
      "Training mae50.52429363388802| validation mae47.9509330054594\n",
      "epochs 300/2500: \n",
      "Training cost1645.0749036474244| validation cost1668.2777652436446\n",
      "Training mae47.82591393586182| validation mae46.355681808321236\n",
      "epochs 400/2500: \n",
      "Training cost1557.4172371534044| validation cost1591.1391892399868\n",
      "Training mae46.355381925341405| validation mae45.819908200814545\n",
      "epochs 500/2500: \n",
      "Training cost1495.4949242511059| validation cost1548.1769008754052\n",
      "Training mae45.18771124815493| validation mae45.46258954542378\n",
      "epochs 600/2500: \n",
      "Training cost1451.204993710466| validation cost1525.933527805479\n",
      "Training mae44.27611466568338| validation mae45.21665691915859\n",
      "epochs 700/2500: \n",
      "Training cost1418.3528445191694| validation cost1514.7561670015489\n",
      "Training mae43.578873323925656| validation mae45.08004713446109\n",
      "epochs 800/2500: \n",
      "Training cost1392.7031686526955| validation cost1509.2656855918942\n",
      "Training mae43.02850336878627| validation mae45.02047307574919\n",
      "epochs 900/2500: \n",
      "Training cost1372.0246789091664| validation cost1506.9380285026202\n",
      "Training mae42.61768138193264| validation mae44.992451067734166\n",
      "epochs 1000/2500: \n",
      "Training cost1355.0604802019104| validation cost1506.5508328196415\n",
      "Training mae42.2980572656359| validation mae45.00688783143425\n",
      "epochs 1100/2500: \n",
      "Training cost1340.9979899976465| validation cost1507.438040076364\n",
      "Training mae42.028600199812644| validation mae45.01592092200185\n",
      "epochs 1200/2500: \n",
      "Training cost1329.2605829899844| validation cost1509.1857437489866\n",
      "Training mae41.81627076510137| validation mae45.023481194042546\n",
      "epochs 1300/2500: \n",
      "Training cost1319.4181184914194| validation cost1511.507076147598\n",
      "Training mae41.63284726348261| validation mae45.05311010347717\n",
      "epochs 1400/2500: \n",
      "Training cost1311.1404018855621| validation cost1514.1872680630436\n",
      "Training mae41.47321088393238| validation mae45.07951165507212\n",
      "epochs 1500/2500: \n",
      "Training cost1304.168131971708| validation cost1517.0579152734042\n",
      "Training mae41.33464415572952| validation mae45.103439350012195\n",
      "epochs 1600/2500: \n",
      "Training cost1298.2925209648254| validation cost1519.984906092825\n",
      "Training mae41.21970984800442| validation mae45.12529383534805\n",
      "epochs 1700/2500: \n",
      "Training cost1293.3405777576406| validation cost1522.8634437738679\n",
      "Training mae41.123104289701786| validation mae45.1452551636492\n",
      "epochs 1800/2500: \n",
      "Training cost1289.1650227765265| validation cost1525.6164069495383\n",
      "Training mae41.04208102082238| validation mae45.16478690804333\n",
      "epochs 1900/2500: \n",
      "Training cost1285.6381610514684| validation cost1528.1931809454263\n",
      "Training mae40.97295328416908| validation mae45.18449369050498\n",
      "epochs 2000/2500: \n",
      "Training cost1282.6487900261666| validation cost1530.5669684563454\n",
      "Training mae40.917361182605596| validation mae45.2061208658952\n",
      "epochs 2100/2500: \n",
      "Training cost1280.100962342626| validation cost1532.7299640548983\n",
      "Training mae40.87270185219693| validation mae45.23612081693399\n",
      "epochs 2200/2500: \n",
      "Training cost1277.9134394676055| validation cost1534.6871973315149\n",
      "Training mae40.83532775790561| validation mae45.2626192865981\n",
      "epochs 2300/2500: \n",
      "Training cost1276.018969851333| validation cost1536.4505860931756\n",
      "Training mae40.80392966620711| validation mae45.28505802950945\n",
      "epochs 2400/2500: \n",
      "Training cost1274.3629618895209| validation cost1538.0345323701354\n",
      "Training mae40.777294754014974| validation mae45.3034235118635\n"
     ]
    },
    {
     "data": {
      "image/png": "[encoded data removed]",
      "text/plain": [
       "<Figure size 432x288 with 1 Axes>"
      ]
     },
     "metadata": {},
     "output_type": "display_data"
    }
   ],
   "source": [
    "nn_model(X_train, y_train, X_val, y_val,4)\n"
   ]
  },
  {
   "cell_type": "code",
   "execution_count": null,
   "metadata": {},
   "outputs": [],
   "source": []
  }
 ],
 "metadata": {
  "kernelspec": {
   "display_name": "Python 3",
   "language": "python",
   "name": "python3"
  },
  "language_info": {
   "codemirror_mode": {
    "name": "ipython",
    "version": 3
   },
   "file_extension": ".py",
   "mimetype": "text/x-python",
   "name": "python",
   "nbconvert_exporter": "python",
   "pygments_lexer": "ipython3",
   "version": "3.6.5"
  }
 },
 "nbformat": 4,
 "nbformat_minor": 2
}
